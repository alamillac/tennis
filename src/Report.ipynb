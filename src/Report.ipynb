{
 "cells": [
  {
   "cell_type": "markdown",
   "id": "27f94f4d-ba06-4e96-85db-2e0d0dfd4dac",
   "metadata": {},
   "source": [
    "# Report"
   ]
  },
  {
   "cell_type": "markdown",
   "id": "a299a836-3213-401d-9fa7-ebd7f2f967a4",
   "metadata": {},
   "source": [
    "## TD3\n",
    "\n",
    "---"
   ]
  },
  {
   "cell_type": "markdown",
   "id": "f698b91b-edd7-43d7-98e6-d4e136831998",
   "metadata": {},
   "source": [
    "#### Start the environment"
   ]
  },
  {
   "cell_type": "code",
   "execution_count": 1,
   "id": "c9aabae1-8282-479b-8eeb-ecde8b9e8569",
   "metadata": {},
   "outputs": [
    {
     "name": "stdout",
     "output_type": "stream",
     "text": [
      "Found path: /home/andres/Documentos/projects/cursos/tennis/src/../Tennis_Linux/Tennis.x86_64\n",
      "Mono path[0] = '/home/andres/Documentos/projects/cursos/tennis/src/../Tennis_Linux/Tennis_Data/Managed'\n",
      "Mono config path = '/home/andres/Documentos/projects/cursos/tennis/src/../Tennis_Linux/Tennis_Data/MonoBleedingEdge/etc'\n",
      "Preloaded 'ScreenSelector.so'\n",
      "Preloaded 'libgrpc_csharp_ext.x64.so'\n",
      "Unable to preload the following plugins:\n",
      "\tScreenSelector.so\n",
      "\tlibgrpc_csharp_ext.x86.so\n",
      "Logging to /home/andres/.config/unity3d/Unity Technologies/Unity Environment/Player.log\n"
     ]
    },
    {
     "name": "stderr",
     "output_type": "stream",
     "text": [
      "INFO:unityagents:\n",
      "'Academy' started successfully!\n",
      "Unity Academy name: Academy\n",
      "        Number of Brains: 1\n",
      "        Number of External Brains : 1\n",
      "        Lesson number : 0\n",
      "        Reset Parameters :\n",
      "\t\t\n",
      "Unity brain name: TennisBrain\n",
      "        Number of Visual Observations (per agent): 0\n",
      "        Vector Observation space type: continuous\n",
      "        Vector Observation space size (per agent): 8\n",
      "        Number of stacked Vector Observation: 3\n",
      "        Vector Action space type: continuous\n",
      "        Vector Action space size (per agent): 2\n",
      "        Vector Action descriptions: , \n"
     ]
    }
   ],
   "source": [
    "from td3 import TD3Agent\n",
    "from trainer import Trainer\n",
    "from environment import Env\n",
    "import numpy as np\n",
    "\n",
    "env_filename = \"../Tennis_Linux/Tennis.x86_64\"\n",
    "env = Env(env_filename, train_mode=True)\n",
    "\n",
    "low = np.array([-1] * env.action_size)\n",
    "high = np.array([1] * env.action_size)\n",
    "action_bounds = (low, high)"
   ]
  },
  {
   "cell_type": "markdown",
   "id": "7e752d55-432e-40a7-bc98-4f0af2f8fcf5",
   "metadata": {},
   "source": [
    "#### Examine the State and Action Spaces"
   ]
  },
  {
   "cell_type": "code",
   "execution_count": 2,
   "id": "b87b8a07-8b1f-431a-9c84-0ca6df12d6f0",
   "metadata": {},
   "outputs": [
    {
     "name": "stdout",
     "output_type": "stream",
     "text": [
      "Number of agents: 2\n",
      "Number of actions: 2\n",
      "States have length: 24\n"
     ]
    }
   ],
   "source": [
    "print(\"Number of agents:\", env.num_agents)\n",
    "print(\"Number of actions:\", env.action_size)\n",
    "print(\"States have length:\", env.state_size)"
   ]
  },
  {
   "cell_type": "markdown",
   "id": "43ba3b98-5ae4-4c33-8370-2f8af966827e",
   "metadata": {},
   "source": [
    "#### Init Trainer and train the agent"
   ]
  },
  {
   "cell_type": "code",
   "execution_count": 3,
   "id": "b41f0853-1885-4d66-a9ff-fc9e13f510d9",
   "metadata": {},
   "outputs": [
    {
     "name": "stdout",
     "output_type": "stream",
     "text": [
      "Episode 1 Score [-0.00 -0.00 -0.00]\n",
      "Episode 101 Score [0.05 0.02 0.00]]\n",
      "Episode 201 Score [-0.00 -0.00 0.00]\n",
      "Episode 301 Score [-0.00 -0.00 0.00]\n",
      "Episode 401 Score [-0.00 -0.00 -0.00]\n",
      "Episode 501 Score [-0.00 0.02 -0.00]]\n",
      "Episode 601 Score [-0.00 -0.00 -0.00]\n",
      "Episode 701 Score [-0.00 -0.00 -0.00]\n",
      "Episode 801 Score [-0.00 -0.00 -0.00]\n",
      "Episode 901 Score [-0.00 -0.00 -0.00]\n",
      "Episode 1001 Score [-0.00 -0.00 -0.00]\n",
      "Episode 1101 Score [-0.00 -0.00 -0.00]\n",
      "Episode 1201 Score [-0.00 -0.00 -0.00]\n",
      "Episode 1301 Score [-0.00 -0.00 -0.00]\n",
      "Episode 1401 Score [-0.00 -0.00 -0.00]\n",
      "Episode 1501 Score [-0.00 -0.00 -0.00]\n",
      "Episode 1601 Score [-0.00 -0.00 -0.00]\n",
      "Episode 1701 Score [-0.00 -0.00 -0.00]\n",
      "Episode 1801 Score [-0.00 -0.00 -0.00]\n",
      "Episode 1901 Score [-0.00 -0.00 -0.00]\n",
      "Episode 2001 Score [-0.00 -0.00 -0.00]\n",
      "Episode 2101 Score [-0.00 -0.00 -0.00]\n",
      "Episode 2201 Score [-0.00 -0.00 -0.00]\n",
      "Episode 2301 Score [-0.00 -0.00 -0.00]\n",
      "Episode 2401 Score [-0.00 -0.00 -0.00]\n",
      "Episode 2501 Score [-0.00 -0.00 -0.00]\n",
      "Episode 2601 Score [-0.00 -0.00 -0.00]\n",
      "Episode 2701 Score [0.10 0.19 0.06]]]]\n",
      "Episode 2801 Score [0.65 0.89 0.29]]\n",
      "Episode 2865 Score [0.90 0.35 0.50]]\n",
      "Environment solved in 2864 episodes!\tAverage Score: 0.50\n"
     ]
    }
   ],
   "source": [
    "trainer = Trainer(\n",
    "    max_episodes=5000,\n",
    "    save_model_path=\"../tennis.pth\",\n",
    "    save_checkpoint_path=\"../tennis_checkpoint.pth\",\n",
    "    override_checkpoint=True,\n",
    "    disable_bar_progress=True\n",
    ")\n",
    "agent = TD3Agent(\n",
    "    state_size=env.state_size,\n",
    "    action_bounds=action_bounds,\n",
    "    batch_size=256,\n",
    "    n_envs=env.num_agents,\n",
    "    noise_decay_steps=5000\n",
    ")\n",
    "scores = trainer.train_until(env, agent, desired_score=0.5, consecutive_episodes=100)"
   ]
  },
  {
   "cell_type": "markdown",
   "id": "6434715c-807a-4199-91a1-0d0762966b08",
   "metadata": {},
   "source": [
    "The values on the score shows the last score, the average of the last five scores and the average of the last 100 scores. [Last, Avg5, Avg100]"
   ]
  },
  {
   "cell_type": "markdown",
   "id": "16c591e4-a29e-42b1-b706-630044f228bf",
   "metadata": {},
   "source": [
    "#### Plot the scores"
   ]
  },
  {
   "cell_type": "code",
   "execution_count": 4,
   "id": "7234b6c9-dd3d-4001-906e-71adfcdfd3d9",
   "metadata": {},
   "outputs": [
    {
     "data": {
      "image/png": "[encoded data removed]",
      "text/plain": [
       "<Figure size 640x480 with 1 Axes>"
      ]
     },
     "metadata": {},
     "output_type": "display_data"
    }
   ],
   "source": [
    "trainer.plot_scores(scores)"
   ]
  },
  {
   "cell_type": "markdown",
   "id": "58aa96d7-13bb-473e-9f0d-9f2fa61fd323",
   "metadata": {},
   "source": [
    "## Hyperparameters\n",
    "\n",
    "---"
   ]
  },
  {
   "cell_type": "markdown",
   "id": "ec56e773-c1da-45e5-b5c9-7109997b3c64",
   "metadata": {},
   "source": [
    "The hyperparameters used can be found in the agent.py file for td3 folder.\n",
    "\n",
    "### TD3\n",
    "\n",
    "```python\n",
    "BUFFER_SIZE = int(1e5)  # replay buffer size\n",
    "BATCH_SIZE = 256  # minibatch size\n",
    "GAMMA = 0.99  # discount factor\n",
    "TAU = 1e-2  # for soft update of target parameters\n",
    "LR_ACTOR = 5e-4  # learning rate of the actor\n",
    "LR_CRITIC = 5e-4  # learning rate of the critic\n",
    "WEIGHT_DECAY = 0  # L2 weight decay\n",
    "UPDATE_EVERY = 4  # how often to update the network\n",
    "MIN_BUFFER_SIZE = 1e4  # minimum buffer size before learning\n",
    "\n",
    "ACTOR_HIDDEN_LAYER_1 = 256\n",
    "ACTOR_HIDDEN_LAYER_2 = 128\n",
    "\n",
    "CRITIC_HIDDEN_LAYER_1 = 256\n",
    "CRITIC_HIDDEN_LAYER_2 = 128\n",
    "\n",
    "# Gradient clipping\n",
    "POLICY_MAX_GRAD_NORM = float(\"inf\")\n",
    "VALUE_MAX_GRAD_NORM = float(\"inf\")\n",
    "\n",
    "# Prioritized Experience Replay (PER)\n",
    "PER_ALPHA = 0.6\n",
    "PER_BETA_START = 0.4\n",
    "PER_BETA_INCREMENT = 0.001\n",
    "PER_EPSILON = 1e-5\n",
    "\n",
    "# Noise\n",
    "POLICY_NOISE_RATIO = 0.1\n",
    "POLICY_NOISE_CLIP_RATIO = 0.5\n",
    "```"
   ]
  },
  {
   "cell_type": "code",
   "execution_count": null,
   "id": "b0601a3e-7929-4ae8-9e56-b1a9ae73cb1a",
   "metadata": {},
   "outputs": [],
   "source": []
  }
 ],
 "metadata": {
  "kernelspec": {
   "display_name": "Python 3 (ipykernel)",
   "language": "python",
   "name": "python3"
  },
  "language_info": {
   "codemirror_mode": {
    "name": "ipython",
    "version": 3
   },
   "file_extension": ".py",
   "mimetype": "text/x-python",
   "name": "python",
   "nbconvert_exporter": "python",
   "pygments_lexer": "ipython3",
   "version": "3.11.9"
  }
 },
 "nbformat": 4,
 "nbformat_minor": 5
}
